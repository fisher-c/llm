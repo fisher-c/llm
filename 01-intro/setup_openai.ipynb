{
 "cells": [
  {
   "cell_type": "markdown",
   "id": "2e9d7c4f",
   "metadata": {},
   "source": [
    "## Preparing the environment\n",
    "\n",
    "- Get OpenAI API key and set it as an environment variable\n",
    "- Ask a question"
   ]
  },
  {
   "cell_type": "code",
   "execution_count": 8,
   "id": "80d54247-a57a-4767-9913-4bada7dccb5a",
   "metadata": {},
   "outputs": [],
   "source": [
    "import openai\n",
    "from openai import OpenAI\n",
    "import os\n",
    "from dotenv import load_dotenv"
   ]
  },
  {
   "cell_type": "code",
   "execution_count": 9,
   "id": "492f3298",
   "metadata": {},
   "outputs": [
    {
     "data": {
      "text/plain": [
       "True"
      ]
     },
     "execution_count": 9,
     "metadata": {},
     "output_type": "execute_result"
    }
   ],
   "source": [
    "load_dotenv()  # This loads variables from .env file"
   ]
  },
  {
   "cell_type": "code",
   "execution_count": 10,
   "id": "a0a578b4",
   "metadata": {},
   "outputs": [],
   "source": [
    "client = OpenAI(api_key=os.environ[\"OPENAI_API_KEY\"])"
   ]
  },
  {
   "cell_type": "code",
   "execution_count": 15,
   "id": "333b77cb-0993-4837-9c1b-5801326bc93b",
   "metadata": {},
   "outputs": [],
   "source": [
    "#os.environ"
   ]
  },
  {
   "cell_type": "code",
   "execution_count": 12,
   "id": "8d1e69df-d5c6-404c-b928-f77eb2e9c1b1",
   "metadata": {},
   "outputs": [],
   "source": [
    "response = client.chat.completions.create(\n",
    "    model='gpt-4o',\n",
    "    messages=[{\"role\": \"user\", \"content\": \"is it too late to join the course?\"}]\n",
    ")"
   ]
  },
  {
   "cell_type": "code",
   "execution_count": 13,
   "id": "7a607589-ffdd-460c-9f4d-7d5e795367b4",
   "metadata": {},
   "outputs": [
    {
     "data": {
      "text/plain": [
       "ChatCompletion(id='chatcmpl-Bjy8PhGyOYNwWI4PioPQGUWM94cAr', choices=[Choice(finish_reason='stop', index=0, logprobs=None, message=ChatCompletionMessage(content=\"I'm sorry, but I need more specific information to give you an accurate answer. The timing for joining a course can depend on several factors:\\n\\n1. **Enrollment Deadlines**: Check if the course has a specific enrollment deadline. Some courses allow you to join even after they have started, while others require registration before the course begins.\\n\\n2. **Course Type**: Is it a self-paced online course, or is it tied to a traditional academic calendar? Self-paced courses often allow more flexibility in terms of start dates.\\n\\n3. **Course Progress**: If the course has already started, how far along is it? Will you have enough time to catch up on missed material?\\n\\n4. **Instructor Policies**: Some instructors may allow late entries, especially if it's early in the course, so it's worth reaching out to ask.\\n\\n5. **Institution or Platform Guidelines**: Consider the rules of the institution or online platform offering the course.\\n\\nIf the course is currently ongoing, contact the course provider or instructor directly for the most accurate guidance.\", refusal=None, role='assistant', annotations=[], audio=None, function_call=None, tool_calls=None))], created=1750295617, model='gpt-4o-2024-08-06', object='chat.completion', service_tier='default', system_fingerprint='fp_07871e2ad8', usage=CompletionUsage(completion_tokens=209, prompt_tokens=16, total_tokens=225, completion_tokens_details=CompletionTokensDetails(accepted_prediction_tokens=0, audio_tokens=0, reasoning_tokens=0, rejected_prediction_tokens=0), prompt_tokens_details=PromptTokensDetails(audio_tokens=0, cached_tokens=0)))"
      ]
     },
     "execution_count": 13,
     "metadata": {},
     "output_type": "execute_result"
    }
   ],
   "source": [
    "response"
   ]
  },
  {
   "cell_type": "code",
   "execution_count": 14,
   "id": "79c86a56-8a80-4562-a460-513ffca8d90d",
   "metadata": {},
   "outputs": [
    {
     "data": {
      "text/plain": [
       "\"I'm sorry, but I need more specific information to give you an accurate answer. The timing for joining a course can depend on several factors:\\n\\n1. **Enrollment Deadlines**: Check if the course has a specific enrollment deadline. Some courses allow you to join even after they have started, while others require registration before the course begins.\\n\\n2. **Course Type**: Is it a self-paced online course, or is it tied to a traditional academic calendar? Self-paced courses often allow more flexibility in terms of start dates.\\n\\n3. **Course Progress**: If the course has already started, how far along is it? Will you have enough time to catch up on missed material?\\n\\n4. **Instructor Policies**: Some instructors may allow late entries, especially if it's early in the course, so it's worth reaching out to ask.\\n\\n5. **Institution or Platform Guidelines**: Consider the rules of the institution or online platform offering the course.\\n\\nIf the course is currently ongoing, contact the course provider or instructor directly for the most accurate guidance.\""
      ]
     },
     "execution_count": 14,
     "metadata": {},
     "output_type": "execute_result"
    }
   ],
   "source": [
    "response.choices[0].message.content"
   ]
  },
  {
   "cell_type": "code",
   "execution_count": null,
   "id": "1ba450d4-292e-4467-bfc3-102083339f46",
   "metadata": {},
   "outputs": [],
   "source": []
  }
 ],
 "metadata": {
  "kernelspec": {
   "display_name": "base",
   "language": "python",
   "name": "python3"
  },
  "language_info": {
   "codemirror_mode": {
    "name": "ipython",
    "version": 3
   },
   "file_extension": ".py",
   "mimetype": "text/x-python",
   "name": "python",
   "nbconvert_exporter": "python",
   "pygments_lexer": "ipython3",
   "version": "3.9.12"
  }
 },
 "nbformat": 4,
 "nbformat_minor": 5
}
