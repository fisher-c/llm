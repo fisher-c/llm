{
 "cells": [
  {
   "cell_type": "markdown",
   "id": "0ab67db6",
   "metadata": {},
   "source": [
    "draft"
   ]
  },
  {
   "cell_type": "code",
   "execution_count": null,
   "id": "4164f0f7",
   "metadata": {
    "vscode": {
     "languageId": "plaintext"
    }
   },
   "outputs": [],
   "source": []
  }
 ],
 "metadata": {
  "language_info": {
   "name": "python"
  }
 },
 "nbformat": 4,
 "nbformat_minor": 5
}
